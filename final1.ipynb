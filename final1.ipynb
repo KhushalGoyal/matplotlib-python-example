{
 "cells": [
  {
   "cell_type": "code",
   "execution_count": 4,
   "metadata": {},
   "outputs": [],
   "source": [
    "#Reference http://queirozf.com/entries/add-labels-and-text-to-matplotlib-plots-annotation-examples\n",
    "import numpy as np\n",
    "import pandas as pd\n",
    "import matplotlib.pyplot as plt\n",
    "df = pd.read_csv(\"./try.csv\")"
   ]
  },
  {
   "cell_type": "code",
   "execution_count": 8,
   "metadata": {},
   "outputs": [],
   "source": [
    "x=df.USD\n",
    "y=df.USD-5\n",
    "z=df.USD+10\n",
    "a= 'low'\n",
    "b= 'High'\n",
    "c= 'Moderate'"
   ]
  },
  {
   "cell_type": "code",
   "execution_count": 34,
   "metadata": {},
   "outputs": [],
   "source": [
    "#e=float(a)\n",
    "def plot_bar_highlow():\n",
    "    value = str(input(\"Enter a value low or high or moderate: \"))\n",
    "    if value == 'low' :\n",
    "        ys = y.values\n",
    "        xs = df.Year\n",
    "        col = ['m' for x in enumerate(ys)]\n",
    "        templist = list(range(3,7))\n",
    "        col = ['r' if index in templist else col[index] for index,ele in enumerate(col)]    \n",
    "    elif value == 'high':\n",
    "        index = np.arange(len(df.Year))#arange it generate array of sequential number\n",
    "        ys = z.values\n",
    "        xs = df.Year\n",
    "        col = ['g' for x in enumerate(ys)]\n",
    "    elif value == 'moderate':\n",
    "        index = np.arange(len(df.Year))#arange it generate array of sequential number\n",
    "        ys = x.values\n",
    "        xs = df.Year\n",
    "        col = ['r' for x in enumerate(ys)]\n",
    "    elif value == 'exit':\n",
    "        return\n",
    "    else:\n",
    "        plot_bar_highlow()\n",
    "    if value != 'exit':  \n",
    "        plt.bar(xs,ys,color=col)\n",
    "        #Zip will combine the values of xs (x axis scale) and ys (y axis scale)         \n",
    "        for x_,y_ in zip(xs,ys):\n",
    "            label = \"{:.2f}\".format(y_)\n",
    "            plt.annotate(label, # this is the text\n",
    "                         (x_,y_), # this is the point to label\n",
    "                         textcoords=\"offset points\", # how to position the text\n",
    "                         xytext=(0,10), # distance from text to points (x,y)\n",
    "                         ha='center') # horizontal alignment can be left, right or center\n",
    "        plt.show()\n",
    "        plot_bar_highlow();\n",
    "    else:\n",
    "        return"
   ]
  },
  {
   "cell_type": "code",
   "execution_count": 35,
   "metadata": {
    "scrolled": true
   },
   "outputs": [
    {
     "name": "stdout",
     "output_type": "stream",
     "text": [
      "Enter a value low or high or moderate: low\n"
     ]
    },
    {
     "data": {
      "image/png": "[encoded data removed]",
      "text/plain": [
       "<Figure size 432x288 with 1 Axes>"
      ]
     },
     "metadata": {
      "needs_background": "light"
     },
     "output_type": "display_data"
    },
    {
     "name": "stdout",
     "output_type": "stream",
     "text": [
      "Enter a value low or high or moderate: exit\n"
     ]
    }
   ],
   "source": [
    "plot_bar_highlow()"
   ]
  },
  {
   "cell_type": "code",
   "execution_count": 24,
   "metadata": {},
   "outputs": [
    {
     "name": "stdout",
     "output_type": "stream",
     "text": [
      "['m', 'm', 'm', 'm', 'm', 'm', 'm', 'm', 'm', 'm', 'm', 'm']\n"
     ]
    }
   ],
   "source": [
    "col = ['m' for x in enumerate(y.values)]\n",
    "print(col)"
   ]
  },
  {
   "cell_type": "code",
   "execution_count": 33,
   "metadata": {},
   "outputs": [
    {
     "data": {
      "text/plain": [
       "['m', 'm', 'm', 'r', 'r', 'r', 'r', 'm', 'm', 'm', 'm', 'm']"
      ]
     },
     "execution_count": 33,
     "metadata": {},
     "output_type": "execute_result"
    }
   ],
   "source": []
  },
  {
   "cell_type": "code",
   "execution_count": 15,
   "metadata": {},
   "outputs": [
    {
     "data": {
      "text/plain": [
       "['m', 'm', 'm', 'r', 'm', 'm', 'm', 'm', 'm']"
      ]
     },
     "execution_count": 15,
     "metadata": {},
     "output_type": "execute_result"
    }
   ],
   "source": [
    "col"
   ]
  },
  {
   "cell_type": "code",
   "execution_count": 29,
   "metadata": {},
   "outputs": [
    {
     "data": {
      "text/plain": [
       "[3, 4, 5, 6]"
      ]
     },
     "execution_count": 29,
     "metadata": {},
     "output_type": "execute_result"
    }
   ],
   "source": [
    "list(range(3,7))"
   ]
  },
  {
   "cell_type": "code",
   "execution_count": 56,
   "metadata": {},
   "outputs": [],
   "source": [
    "# Reference https://www.geeksforgeeks.org/iterating-over-rows-and-columns-in-pandas-dataframe/\n",
    "# https://www.geeksforgeeks.org/adding-new-column-to-existing-dataframe-in-pandas/\n",
    "def manuplate(df, to, frm, typ, amount) :\n",
    "    outputUSD = []\n",
    "    for i,j in df.iterrows():\n",
    "        if int(j['Year']) >= to and int(j['Year']) <= frm:\n",
    "            if typ == 'add':\n",
    "                out = j['USD'] + amount\n",
    "            elif typ == 'sub':\n",
    "                out = j['USD'] - amount\n",
    "            else :\n",
    "                out = j['USD']\n",
    "            outputUSD.append(out)        \n",
    "        else:\n",
    "            outputUSD.append(j['USD'])\n",
    "    return df.assign(out_USD = outputUSD)\n",
    "\n"
   ]
  },
  {
   "cell_type": "code",
   "execution_count": 57,
   "metadata": {},
   "outputs": [
    {
     "data": {
      "text/html": [
       "<div>\n",
       "<style scoped>\n",
       "    .dataframe tbody tr th:only-of-type {\n",
       "        vertical-align: middle;\n",
       "    }\n",
       "\n",
       "    .dataframe tbody tr th {\n",
       "        vertical-align: top;\n",
       "    }\n",
       "\n",
       "    .dataframe thead th {\n",
       "        text-align: right;\n",
       "    }\n",
       "</style>\n",
       "<table border=\"1\" class=\"dataframe\">\n",
       "  <thead>\n",
       "    <tr style=\"text-align: right;\">\n",
       "      <th></th>\n",
       "      <th>Year</th>\n",
       "      <th>USD</th>\n",
       "      <th>out_USD</th>\n",
       "    </tr>\n",
       "  </thead>\n",
       "  <tbody>\n",
       "    <tr>\n",
       "      <th>0</th>\n",
       "      <td>2014.0</td>\n",
       "      <td>39.0</td>\n",
       "      <td>39.0</td>\n",
       "    </tr>\n",
       "    <tr>\n",
       "      <th>1</th>\n",
       "      <td>2015.0</td>\n",
       "      <td>46.0</td>\n",
       "      <td>46.0</td>\n",
       "    </tr>\n",
       "    <tr>\n",
       "      <th>2</th>\n",
       "      <td>2016.0</td>\n",
       "      <td>66.0</td>\n",
       "      <td>66.0</td>\n",
       "    </tr>\n",
       "    <tr>\n",
       "      <th>3</th>\n",
       "      <td>2017.0</td>\n",
       "      <td>78.0</td>\n",
       "      <td>78.0</td>\n",
       "    </tr>\n",
       "    <tr>\n",
       "      <th>4</th>\n",
       "      <td>2018.0</td>\n",
       "      <td>92.0</td>\n",
       "      <td>92.0</td>\n",
       "    </tr>\n",
       "    <tr>\n",
       "      <th>5</th>\n",
       "      <td>2019.0</td>\n",
       "      <td>106.4</td>\n",
       "      <td>121.4</td>\n",
       "    </tr>\n",
       "    <tr>\n",
       "      <th>6</th>\n",
       "      <td>2020.0</td>\n",
       "      <td>120.8</td>\n",
       "      <td>135.8</td>\n",
       "    </tr>\n",
       "    <tr>\n",
       "      <th>7</th>\n",
       "      <td>2021.0</td>\n",
       "      <td>135.4</td>\n",
       "      <td>150.4</td>\n",
       "    </tr>\n",
       "    <tr>\n",
       "      <th>8</th>\n",
       "      <td>2022.0</td>\n",
       "      <td>150.2</td>\n",
       "      <td>165.2</td>\n",
       "    </tr>\n",
       "    <tr>\n",
       "      <th>9</th>\n",
       "      <td>2023.0</td>\n",
       "      <td>165.2</td>\n",
       "      <td>180.2</td>\n",
       "    </tr>\n",
       "    <tr>\n",
       "      <th>10</th>\n",
       "      <td>2024.0</td>\n",
       "      <td>180.4</td>\n",
       "      <td>195.4</td>\n",
       "    </tr>\n",
       "    <tr>\n",
       "      <th>11</th>\n",
       "      <td>2025.0</td>\n",
       "      <td>195.7</td>\n",
       "      <td>210.7</td>\n",
       "    </tr>\n",
       "  </tbody>\n",
       "</table>\n",
       "</div>"
      ],
      "text/plain": [
       "      Year    USD  out_USD\n",
       "0   2014.0   39.0     39.0\n",
       "1   2015.0   46.0     46.0\n",
       "2   2016.0   66.0     66.0\n",
       "3   2017.0   78.0     78.0\n",
       "4   2018.0   92.0     92.0\n",
       "5   2019.0  106.4    121.4\n",
       "6   2020.0  120.8    135.8\n",
       "7   2021.0  135.4    150.4\n",
       "8   2022.0  150.2    165.2\n",
       "9   2023.0  165.2    180.2\n",
       "10  2024.0  180.4    195.4\n",
       "11  2025.0  195.7    210.7"
      ]
     },
     "execution_count": 57,
     "metadata": {},
     "output_type": "execute_result"
    }
   ],
   "source": [
    "manuplate(df,2019,2025,'add',15)"
   ]
  },
  {
   "cell_type": "code",
   "execution_count": null,
   "metadata": {},
   "outputs": [],
   "source": []
  }
 ],
 "metadata": {
  "kernelspec": {
   "display_name": "Python 3",
   "language": "python",
   "name": "python3"
  },
  "language_info": {
   "codemirror_mode": {
    "name": "ipython",
    "version": 3
   },
   "file_extension": ".py",
   "mimetype": "text/x-python",
   "name": "python",
   "nbconvert_exporter": "python",
   "pygments_lexer": "ipython3",
   "version": "3.6.8"
  }
 },
 "nbformat": 4,
 "nbformat_minor": 2
}
